{
 "cells": [
  {
   "cell_type": "code",
   "execution_count": 5,
   "metadata": {},
   "outputs": [
    {
     "name": "stdout",
     "output_type": "stream",
     "text": [
      "************************** [START] **************************\n",
      "Runing on cuda.\n",
      "Total steps 8\n",
      "Epoch: 1/5; nmse_train: 0.0008; cosine_train: 0.3796; training time: 1.946460s0s\n",
      "Epoch: 2/5; nmse_train: 0.0006; cosine_train: 0.2937; training time: 1.097992s1s\n",
      "Epoch: 3/5; nmse_train: 0.0006; cosine_train: 0.2936; training time: 1.138792s3s\n",
      "Epoch: 4/5; nmse_train: 0.0006; cosine_train: 0.2936; training time: 1.108769s5s\n",
      "Epoch: 5/5; nmse_train: 0.0006; cosine_train: 0.2935; training time: 1.225608s0s\n",
      "\n",
      "************************** [END] **************************\n"
     ]
    }
   ],
   "source": [
    "from elsa import ELSA\n",
    "import torch\n",
    "import scipy\n",
    "import numpy as np\n",
    "\n",
    "device = torch.device(\"cuda\")\n",
    "\n",
    "# X_csr = ... # load your interaction matrix (scipy.sparse.csr_matrix with users in rows and items in columns)\n",
    "# X_test = ... # load your test data (scipy.sparse.csr_matrix with users in rows and items in columns)\n",
    "\n",
    "X_csr = scipy.sparse.csr_matrix(np.random.randint(0, 2, (1000, 1000)))\n",
    "X_test = scipy.sparse.csr_matrix(np.random.randint(0, 2, (1000, 1000)))\n",
    "\n",
    "items_cnt = X_csr.shape[1]\n",
    "factors = 256\n",
    "num_epochs = 5\n",
    "batch_size = 128\n",
    "\n",
    "model = ELSA(n_items=items_cnt, device=device, n_dims=factors)\n",
    "\n",
    "model.fit(X_csr, batch_size=batch_size, epochs=num_epochs)\n",
    "\n",
    "# save item embeddings into np array\n",
    "A = torch.nn.functional.normalize(model.get_items_embeddings(), dim=-1).cpu().numpy()\n",
    "\n",
    "# get predictions in PyTorch\n",
    "predictions = model.predict(X_test, batch_size=batch_size)\n",
    "\n",
    "# get predictions in numpy\n",
    "predictions = ((X_test @ A) @ (A.T)) - X_test\n"
   ]
  },
  {
   "cell_type": "code",
   "execution_count": 7,
   "metadata": {},
   "outputs": [
    {
     "name": "stdout",
     "output_type": "stream",
     "text": [
      "Number of batches with size 128 to compute cosine similarity and predict TopK is 1\n",
      "Batch 1/1, number of source items processed: 2\n"
     ]
    },
    {
     "data": {
      "text/plain": [
       "(tensor([[295, 458, 727, 903, 614, 644, 513,  27, 661, 777, 396, 159, 272, 147,\n",
       "           73, 419, 154,  55, 681, 177, 639, 901, 769, 658, 448, 685, 100, 145,\n",
       "          992, 570, 851, 843, 468, 630, 822, 977, 789, 633,  64, 560, 893, 385,\n",
       "          446, 321, 831, 453, 542, 976, 265, 603, 582, 314, 120, 363, 804, 471,\n",
       "          962, 212, 719, 133, 261,   6, 352, 517, 588, 754, 625, 470, 929, 900,\n",
       "          569, 779, 834, 774, 997, 196, 964, 192,  45, 799, 671, 946,  99, 943,\n",
       "          963, 817, 954, 666, 790, 664, 908, 211, 200, 242, 319, 103, 132, 353,\n",
       "          738,  39],\n",
       "         [519, 902, 831, 983, 226,  70, 461,   5, 817, 963, 851, 100, 671, 200,\n",
       "          840, 987, 522, 898, 719, 746, 167,  79, 265, 600, 463, 588, 662, 474,\n",
       "          329, 400, 769, 661, 141, 306, 104, 456,  99, 353, 450, 552, 291, 730,\n",
       "          538, 168, 476, 398, 644, 550, 453, 360, 924, 651, 658, 279, 804, 371,\n",
       "          816, 139, 889, 133, 670, 777,  27, 641,   4, 145, 267, 754, 665, 891,\n",
       "          169, 920, 192, 270, 632, 876, 964, 219, 818,  51, 570, 363, 559, 606,\n",
       "          852, 358, 611, 590,  14, 198, 895,  82, 995, 486, 799, 111, 495, 303,\n",
       "          668, 212]]),\n",
       " tensor([[0.9493, 0.9490, 0.9468, 0.9467, 0.9458, 0.9454, 0.9453, 0.9439, 0.9410,\n",
       "          0.9408, 0.9396, 0.9384, 0.9382, 0.9379, 0.9377, 0.9377, 0.9374, 0.9374,\n",
       "          0.9373, 0.9371, 0.9371, 0.9370, 0.9370, 0.9370, 0.9369, 0.9364, 0.9363,\n",
       "          0.9363, 0.9358, 0.9357, 0.9355, 0.9355, 0.9354, 0.9352, 0.9348, 0.9345,\n",
       "          0.9343, 0.9343, 0.9342, 0.9339, 0.9338, 0.9338, 0.9338, 0.9337, 0.9337,\n",
       "          0.9337, 0.9337, 0.9335, 0.9333, 0.9332, 0.9332, 0.9332, 0.9332, 0.9331,\n",
       "          0.9330, 0.9330, 0.9330, 0.9327, 0.9326, 0.9326, 0.9325, 0.9325, 0.9325,\n",
       "          0.9325, 0.9324, 0.9322, 0.9321, 0.9317, 0.9317, 0.9316, 0.9315, 0.9312,\n",
       "          0.9311, 0.9310, 0.9310, 0.9309, 0.9308, 0.9307, 0.9306, 0.9306, 0.9305,\n",
       "          0.9305, 0.9305, 0.9303, 0.9302, 0.9302, 0.9302, 0.9301, 0.9301, 0.9300,\n",
       "          0.9300, 0.9299, 0.9298, 0.9296, 0.9296, 0.9295, 0.9294, 0.9294, 0.9294,\n",
       "          0.9293],\n",
       "         [0.9638, 0.9632, 0.9632, 0.9631, 0.9628, 0.9624, 0.9611, 0.9603, 0.9597,\n",
       "          0.9597, 0.9591, 0.9587, 0.9586, 0.9581, 0.9577, 0.9576, 0.9575, 0.9575,\n",
       "          0.9572, 0.9571, 0.9567, 0.9566, 0.9562, 0.9557, 0.9554, 0.9550, 0.9550,\n",
       "          0.9545, 0.9538, 0.9536, 0.9534, 0.9533, 0.9533, 0.9533, 0.9532, 0.9531,\n",
       "          0.9531, 0.9530, 0.9529, 0.9529, 0.9528, 0.9525, 0.9525, 0.9523, 0.9523,\n",
       "          0.9522, 0.9521, 0.9521, 0.9520, 0.9518, 0.9515, 0.9513, 0.9512, 0.9512,\n",
       "          0.9511, 0.9510, 0.9510, 0.9509, 0.9509, 0.9509, 0.9508, 0.9505, 0.9500,\n",
       "          0.9499, 0.9498, 0.9497, 0.9495, 0.9495, 0.9494, 0.9494, 0.9492, 0.9488,\n",
       "          0.9488, 0.9487, 0.9486, 0.9486, 0.9486, 0.9485, 0.9484, 0.9482, 0.9481,\n",
       "          0.9479, 0.9479, 0.9477, 0.9476, 0.9476, 0.9475, 0.9473, 0.9473, 0.9473,\n",
       "          0.9473, 0.9471, 0.9471, 0.9471, 0.9470, 0.9469, 0.9468, 0.9466, 0.9466,\n",
       "          0.9465]]))"
      ]
     },
     "execution_count": 7,
     "metadata": {},
     "output_type": "execute_result"
    }
   ],
   "source": [
    "\n",
    "# find related items for a subset of items\n",
    "# itemids = np.array([id1, id2, ...])  # id1, id2 are indices of items in the X_csr\n",
    "itemids = np.array([1, 2])  # id1, id2 are indices of items in the X_csr\n",
    "related = model.similar_items(N=100, batch_size=128, sources=itemids)\n",
    "\n",
    "related"
   ]
  }
 ],
 "metadata": {
  "kernelspec": {
   "display_name": ".venv",
   "language": "python",
   "name": "python3"
  },
  "language_info": {
   "codemirror_mode": {
    "name": "ipython",
    "version": 3
   },
   "file_extension": ".py",
   "mimetype": "text/x-python",
   "name": "python",
   "nbconvert_exporter": "python",
   "pygments_lexer": "ipython3",
   "version": "3.10.12"
  }
 },
 "nbformat": 4,
 "nbformat_minor": 2
}
