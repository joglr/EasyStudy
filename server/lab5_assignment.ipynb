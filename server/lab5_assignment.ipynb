{
 "cells": [
  {
   "cell_type": "code",
   "execution_count": 2,
   "id": "6d868b42",
   "metadata": {},
   "outputs": [],
   "source": [
    "import pandas as pd\n",
    "import numpy as np\n",
    "import os\n",
    "import re\n",
    "import json\n",
    "import warnings\n",
    "warnings.simplefilter(action='ignore', category=FutureWarning)"
   ]
  },
  {
   "cell_type": "markdown",
   "id": "1c8ae166",
   "metadata": {},
   "source": [
    "# Pre-process Participants data\n",
    "- this was already done for you, just FYI"
   ]
  },
  {
   "cell_type": "code",
   "execution_count": 14,
   "id": "1f1c2031",
   "metadata": {},
   "outputs": [],
   "source": [
    "df_participation = pd.read_csv(\"/home/jonas/EasyStudy/server/data/participation.csv\", index_col=0)\n",
    "\n",
    "# filter-out test users # df_participation = df_participation.loc[31:]\n",
    "df_participation.participant_email = df_participation.participant_email.fillna(\"\")\n",
    "df_participation = df_participation[~df_participation.participant_email.str.contains(\"testuser\")]\n",
    "df_participation.shape\n",
    "\n",
    "#filter-out unfinished participations\n",
    "\n",
    "df_participation = df_participation[df_participation.age_group.notna()]\n",
    "df_completed_participation = df_participation[df_participation.time_finished.notna()]\n",
    "df_uncompleted_participation = df_participation[df_participation.time_finished.isna()]\n",
    "\n",
    "#remove sensitive data and save for further usage\n",
    "\n",
    "df_completed_participation = df_completed_participation.drop([\"participant_email\",\"extra_data\"], axis=1)\n",
    "df_completed_participation.to_csv(\"data/participation-export_filtered.csv\")"
   ]
  },
  {
   "cell_type": "markdown",
   "id": "e7b4f5a4",
   "metadata": {},
   "source": [
    "# Pre-process Interactions\n",
    "- this was already done for you, just FYI"
   ]
  },
  {
   "cell_type": "code",
   "execution_count": 24,
   "id": "2292ae8f",
   "metadata": {},
   "outputs": [],
   "source": [
    "df_interaction = pd.read_json(\"/home/jonas/EasyStudy/server/data/interaction.json\", encoding='utf-8')\n",
    "\n",
    "def get_participants_interaction(df_i, df_p):\n",
    "    return df_i[df_i.participation.isin(df_p.index)]\n",
    "\n",
    "\n",
    "#Only get interactions of non-dummy-data participants who completed the study\n",
    "df_interaction = get_participants_interaction(df_interaction, df_completed_participation)\n",
    "df_interaction.to_json(\"data/interaction-export_filtered.json\")\n",
    "\n",
    "#Toy dataset for faster downloads (using only 20 participants)\n",
    "df_interactionTop20 = get_participants_interaction(df_interaction, df_completed_participation.iloc[0:20])\n",
    "df_interactionTop20.to_json(\"data/interaction-export_filteredSmall.json\")\n"
   ]
  },
  {
   "cell_type": "markdown",
   "id": "b1d80635",
   "metadata": {
    "scrolled": true
   },
   "source": [
    "# Load data"
   ]
  },
  {
   "cell_type": "code",
   "execution_count": 31,
   "id": "f98fdecb",
   "metadata": {},
   "outputs": [],
   "source": [
    "df_interaction = pd.read_json(\"data/interaction.json\", encoding='utf-8')\n",
    "df_completed_participation = pd.read_csv(\"data/participation-export_filtered.csv\", index_col=0)"
   ]
  },
  {
   "cell_type": "code",
   "execution_count": 32,
   "id": "cb282f50",
   "metadata": {},
   "outputs": [
    {
     "data": {
      "text/html": [
       "<div>\n",
       "<style scoped>\n",
       "    .dataframe tbody tr th:only-of-type {\n",
       "        vertical-align: middle;\n",
       "    }\n",
       "\n",
       "    .dataframe tbody tr th {\n",
       "        vertical-align: top;\n",
       "    }\n",
       "\n",
       "    .dataframe thead th {\n",
       "        text-align: right;\n",
       "    }\n",
       "</style>\n",
       "<table border=\"1\" class=\"dataframe\">\n",
       "  <thead>\n",
       "    <tr style=\"text-align: right;\">\n",
       "      <th></th>\n",
       "      <th>data</th>\n",
       "      <th>id</th>\n",
       "      <th>interaction_type</th>\n",
       "      <th>participation</th>\n",
       "      <th>time</th>\n",
       "    </tr>\n",
       "  </thead>\n",
       "  <tbody>\n",
       "    <tr>\n",
       "      <th>0</th>\n",
       "      <td>{\"page\": \"preference_elicitation\", \"context\": ...</td>\n",
       "      <td>1</td>\n",
       "      <td>loaded-page</td>\n",
       "      <td>1</td>\n",
       "      <td>2024-09-26 15:09:05.237971</td>\n",
       "    </tr>\n",
       "    <tr>\n",
       "      <th>1</th>\n",
       "      <td>{\"selected_item\": {\"movieName\": \"Harry Potter ...</td>\n",
       "      <td>2</td>\n",
       "      <td>selected-item</td>\n",
       "      <td>1</td>\n",
       "      <td>2024-09-26 15:09:09.296887</td>\n",
       "    </tr>\n",
       "    <tr>\n",
       "      <th>2</th>\n",
       "      <td>{\"viewport\": {\"left\": 0, \"top\": 0, \"width\": 19...</td>\n",
       "      <td>3</td>\n",
       "      <td>changed-viewport</td>\n",
       "      <td>1</td>\n",
       "      <td>2024-09-26 15:09:10.233974</td>\n",
       "    </tr>\n",
       "    <tr>\n",
       "      <th>3</th>\n",
       "      <td>{\"selected_item\": {\"movieName\": \"Harry Potter ...</td>\n",
       "      <td>4</td>\n",
       "      <td>selected-item</td>\n",
       "      <td>1</td>\n",
       "      <td>2024-09-26 15:09:11.198213</td>\n",
       "    </tr>\n",
       "    <tr>\n",
       "      <th>4</th>\n",
       "      <td>{\"selected_item\": {\"movieName\": \"Django Unchai...</td>\n",
       "      <td>5</td>\n",
       "      <td>selected-item</td>\n",
       "      <td>1</td>\n",
       "      <td>2024-09-26 15:09:11.852801</td>\n",
       "    </tr>\n",
       "  </tbody>\n",
       "</table>\n",
       "</div>"
      ],
      "text/plain": [
       "                                                data  id  interaction_type  \\\n",
       "0  {\"page\": \"preference_elicitation\", \"context\": ...   1       loaded-page   \n",
       "1  {\"selected_item\": {\"movieName\": \"Harry Potter ...   2     selected-item   \n",
       "2  {\"viewport\": {\"left\": 0, \"top\": 0, \"width\": 19...   3  changed-viewport   \n",
       "3  {\"selected_item\": {\"movieName\": \"Harry Potter ...   4     selected-item   \n",
       "4  {\"selected_item\": {\"movieName\": \"Django Unchai...   5     selected-item   \n",
       "\n",
       "   participation                        time  \n",
       "0              1  2024-09-26 15:09:05.237971  \n",
       "1              1  2024-09-26 15:09:09.296887  \n",
       "2              1  2024-09-26 15:09:10.233974  \n",
       "3              1  2024-09-26 15:09:11.198213  \n",
       "4              1  2024-09-26 15:09:11.852801  "
      ]
     },
     "execution_count": 32,
     "metadata": {},
     "output_type": "execute_result"
    }
   ],
   "source": [
    "df_interaction.head()"
   ]
  },
  {
   "cell_type": "code",
   "execution_count": 33,
   "id": "06ed24dc",
   "metadata": {},
   "outputs": [
    {
     "data": {
      "text/plain": [
       "array(['loaded-page', 'selected-item', 'changed-viewport', 'on-input',\n",
       "       'deselected-item', 'elicitation-ended', 'iteration-started',\n",
       "       'iteration-ended', 'study-ended'], dtype=object)"
      ]
     },
     "execution_count": 33,
     "metadata": {},
     "output_type": "execute_result"
    }
   ],
   "source": [
    "df_interaction.interaction_type.unique()"
   ]
  },
  {
   "cell_type": "code",
   "execution_count": 26,
   "id": "4b0d01e6",
   "metadata": {},
   "outputs": [
    {
     "data": {
      "text/html": [
       "<div>\n",
       "<style scoped>\n",
       "    .dataframe tbody tr th:only-of-type {\n",
       "        vertical-align: middle;\n",
       "    }\n",
       "\n",
       "    .dataframe tbody tr th {\n",
       "        vertical-align: top;\n",
       "    }\n",
       "\n",
       "    .dataframe thead th {\n",
       "        text-align: right;\n",
       "    }\n",
       "</style>\n",
       "<table border=\"1\" class=\"dataframe\">\n",
       "  <thead>\n",
       "    <tr style=\"text-align: right;\">\n",
       "      <th></th>\n",
       "      <th>age_group</th>\n",
       "      <th>gender</th>\n",
       "      <th>education</th>\n",
       "      <th>ml_familiar</th>\n",
       "      <th>user_study_id</th>\n",
       "      <th>time_joined</th>\n",
       "      <th>time_finished</th>\n",
       "      <th>uuid</th>\n",
       "      <th>language</th>\n",
       "    </tr>\n",
       "    <tr>\n",
       "      <th>id</th>\n",
       "      <th></th>\n",
       "      <th></th>\n",
       "      <th></th>\n",
       "      <th></th>\n",
       "      <th></th>\n",
       "      <th></th>\n",
       "      <th></th>\n",
       "      <th></th>\n",
       "      <th></th>\n",
       "    </tr>\n",
       "  </thead>\n",
       "  <tbody>\n",
       "    <tr>\n",
       "      <th>1</th>\n",
       "      <td>21</td>\n",
       "      <td>0</td>\n",
       "      <td>3</td>\n",
       "      <td>1</td>\n",
       "      <td>11</td>\n",
       "      <td>2024-09-26 15:08:56.374223</td>\n",
       "      <td>2024-09-26 15:13:50.953686</td>\n",
       "      <td>5YMDUaGyCBusEdyjyPk2tg</td>\n",
       "      <td>en</td>\n",
       "    </tr>\n",
       "    <tr>\n",
       "      <th>2</th>\n",
       "      <td>21</td>\n",
       "      <td>0</td>\n",
       "      <td>3</td>\n",
       "      <td>1</td>\n",
       "      <td>11</td>\n",
       "      <td>2024-09-26 15:14:25.298064</td>\n",
       "      <td>2024-09-26 15:29:35.875462</td>\n",
       "      <td>XypvuckxjjQHxQ5HwebVGw</td>\n",
       "      <td>en</td>\n",
       "    </tr>\n",
       "    <tr>\n",
       "      <th>3</th>\n",
       "      <td>21</td>\n",
       "      <td>1</td>\n",
       "      <td>3</td>\n",
       "      <td>0</td>\n",
       "      <td>11</td>\n",
       "      <td>2024-09-26 15:34:42.799116</td>\n",
       "      <td>2024-09-26 15:52:07.886884</td>\n",
       "      <td>VMZT0DrJeNrBTFlMisDl0w</td>\n",
       "      <td>en</td>\n",
       "    </tr>\n",
       "    <tr>\n",
       "      <th>4</th>\n",
       "      <td>29</td>\n",
       "      <td>1</td>\n",
       "      <td>3</td>\n",
       "      <td>0</td>\n",
       "      <td>11</td>\n",
       "      <td>2024-09-26 15:54:57.926254</td>\n",
       "      <td>2024-09-26 16:16:38.145021</td>\n",
       "      <td>XypvuckxjjQHxQ5HwebVGw</td>\n",
       "      <td>en</td>\n",
       "    </tr>\n",
       "    <tr>\n",
       "      <th>5</th>\n",
       "      <td>21</td>\n",
       "      <td>0</td>\n",
       "      <td>2</td>\n",
       "      <td>1</td>\n",
       "      <td>11</td>\n",
       "      <td>2024-09-26 16:20:21.194907</td>\n",
       "      <td>2024-09-26 16:27:32.496880</td>\n",
       "      <td>jzY69jDW-94cLARGgSseZg</td>\n",
       "      <td>en</td>\n",
       "    </tr>\n",
       "  </tbody>\n",
       "</table>\n",
       "</div>"
      ],
      "text/plain": [
       "    age_group  gender  education  ml_familiar  user_study_id  \\\n",
       "id                                                             \n",
       "1          21       0          3            1             11   \n",
       "2          21       0          3            1             11   \n",
       "3          21       1          3            0             11   \n",
       "4          29       1          3            0             11   \n",
       "5          21       0          2            1             11   \n",
       "\n",
       "                   time_joined               time_finished  \\\n",
       "id                                                           \n",
       "1   2024-09-26 15:08:56.374223  2024-09-26 15:13:50.953686   \n",
       "2   2024-09-26 15:14:25.298064  2024-09-26 15:29:35.875462   \n",
       "3   2024-09-26 15:34:42.799116  2024-09-26 15:52:07.886884   \n",
       "4   2024-09-26 15:54:57.926254  2024-09-26 16:16:38.145021   \n",
       "5   2024-09-26 16:20:21.194907  2024-09-26 16:27:32.496880   \n",
       "\n",
       "                      uuid language  \n",
       "id                                   \n",
       "1   5YMDUaGyCBusEdyjyPk2tg       en  \n",
       "2   XypvuckxjjQHxQ5HwebVGw       en  \n",
       "3   VMZT0DrJeNrBTFlMisDl0w       en  \n",
       "4   XypvuckxjjQHxQ5HwebVGw       en  \n",
       "5   jzY69jDW-94cLARGgSseZg       en  "
      ]
     },
     "execution_count": 26,
     "metadata": {},
     "output_type": "execute_result"
    }
   ],
   "source": [
    "df_completed_participation.head()"
   ]
  },
  {
   "cell_type": "markdown",
   "id": "44ba1823",
   "metadata": {},
   "source": [
    "# Enrich the interactions data frame\n",
    "- retrieve necessary information from \"data\" payload, e.g., \n",
    "  - in what iteration we are \n",
    "  - what layout was used\n",
    "  - ordering of algorithms"
   ]
  },
  {
   "cell_type": "code",
   "execution_count": 34,
   "id": "c6cb1493",
   "metadata": {},
   "outputs": [],
   "source": [
    "N_ITERATIONS = 8\n",
    "def get_iteration(x):\n",
    "    return json.loads(x)[\"iteration\"]"
   ]
  },
  {
   "cell_type": "code",
   "execution_count": 37,
   "id": "cfb48855",
   "metadata": {},
   "outputs": [],
   "source": [
    "#This cell takes up to a minute or two to complete\n",
    "import json\n",
    "def set_iteration(row):\n",
    "    if row.interaction_type == \"iteration-started\" or row.interaction_type == \"iteration-ended\":\n",
    "        row['iteration'] = json.loads(row.data)['iteration']\n",
    "    else:\n",
    "        row['iteration'] = None\n",
    "    return row\n",
    "\n",
    "def set_result_layout(row):\n",
    "    if row.interaction_type == \"iteration-started\":\n",
    "        row['result_layout'] = json.loads(row.data)['result_layout']\n",
    "    else:\n",
    "        row['result_layout'] = None\n",
    "    return row\n",
    "\n",
    "#'algorithm_assignment': {'0': {'algorithm': 'relevance_based',\n",
    "#   'name': 'gamma',\n",
    "#   'order': 1},\n",
    "#  '1': {'algorithm': 'weighted_average', 'name': 'delta', 'order': 0}},\n",
    "\n",
    "def set_mapping(row):\n",
    "    if row.interaction_type == 'iteration-started':\n",
    "        dat = json.loads(row.data)['algorithm_assignment'].values()\n",
    "        for mapping in dat:\n",
    "            row[mapping['name'].upper()] = mapping['order']\n",
    "    else:\n",
    "        row['JELSA'] = None\n",
    "        row['JELSA_NOPOST'] = None\n",
    "    return row\n",
    "\n",
    "\n",
    "\n",
    "d = df_interaction.copy()\n",
    "d = d.set_index(\"id\")\n",
    "d = d.apply(set_iteration, axis=1).apply(set_result_layout, axis=1).apply(set_mapping, axis=1)\n",
    "d['iteration'] = d.groupby(['participation'], sort=False)['iteration'].apply(lambda x: x.ffill())\n",
    "d['result_layout'] = d.groupby(['participation'], sort=False)['result_layout'].apply(lambda x: x.ffill())\n",
    "d['JELSA'] = d.groupby(['participation'], sort=False)['JELSA'].apply(lambda x: x.ffill())\n",
    "d['JELSA_NOPOST'] = d.groupby(['participation'], sort=False)['JELSA_NOPOST'].apply(lambda x: x.ffill())\n",
    "d = d[d.iteration.notna()]\n",
    "\n",
    "d.to_json(\"data/interaction-export_filteredEnriched.json\")"
   ]
  },
  {
   "cell_type": "code",
   "execution_count": 38,
   "id": "b720f0c1",
   "metadata": {},
   "outputs": [],
   "source": [
    "d = pd.read_json(\"data/interaction-export_filteredEnriched.json\", encoding='utf-8')"
   ]
  },
  {
   "cell_type": "code",
   "execution_count": 40,
   "id": "dbb8dbcc",
   "metadata": {},
   "outputs": [
    {
     "data": {
      "text/plain": [
       "data                {\"iteration\": 4, \"movies\": {\"JELSA\": {\"movies\"...\n",
       "interaction_type                                    iteration-started\n",
       "participation                                                       1\n",
       "time                                       2024-09-26 15:12:28.552925\n",
       "iteration                                                           4\n",
       "result_layout                                                    rows\n",
       "JELSA                                                               0\n",
       "JELSA_NOPOST                                                        1\n",
       "Name: 112, dtype: object"
      ]
     },
     "execution_count": 40,
     "metadata": {},
     "output_type": "execute_result"
    }
   ],
   "source": [
    "# how does the record with iteration-started looks like?\n",
    "d.loc[112]"
   ]
  },
  {
   "cell_type": "code",
   "execution_count": 41,
   "id": "ab2f48fe",
   "metadata": {},
   "outputs": [
    {
     "data": {
      "text/plain": [
       "{'iteration': 4,\n",
       " 'movies': {'JELSA': {'movies': [{'movie': 'Dear Zachary: A Letter to a Son About His Father (2008)',\n",
       "     'url': '/static/datasets/ml-latest/img/65188.jpg',\n",
       "     'movie_idx': '679',\n",
       "     'movie_id': 65188,\n",
       "     'genres': ['Documentary']},\n",
       "    {'movie': 'Saw II (2005)',\n",
       "     'url': '/static/datasets/ml-latest/img/39446.jpg',\n",
       "     'movie_idx': '491',\n",
       "     'movie_id': 39446,\n",
       "     'genres': ['Horror', 'Thriller']},\n",
       "    {'movie': 'Allied (2016)',\n",
       "     'url': '/static/datasets/ml-latest/img/164981.jpg',\n",
       "     'movie_idx': '1290',\n",
       "     'movie_id': 164981,\n",
       "     'genres': ['Action', 'Drama', 'Romance', 'Thriller', 'War']},\n",
       "    {'movie': 'Alice Through the Looking Glass (2016)',\n",
       "     'url': '/static/datasets/ml-latest/img/158813.jpg',\n",
       "     'movie_idx': '1252',\n",
       "     'movie_id': 158813,\n",
       "     'genres': ['Adventure', 'Children', 'Fantasy']},\n",
       "    {'movie': 'Man on Fire (2004)',\n",
       "     'url': '/static/datasets/ml-latest/img/7445.jpg',\n",
       "     'movie_idx': '403',\n",
       "     'movie_id': 7445,\n",
       "     'genres': ['Action', 'Crime', 'Drama', 'Mystery', 'Thriller']},\n",
       "    {'movie': 'Captain America: Civil War (2016)',\n",
       "     'url': '/static/datasets/ml-latest/img/122920.jpg',\n",
       "     'movie_idx': '1149',\n",
       "     'movie_id': 122920,\n",
       "     'genres': ['Action', 'Sci-Fi', 'Thriller']},\n",
       "    {'movie': 'Whiplash (2014)',\n",
       "     'url': '/static/datasets/ml-latest/img/112552.jpg',\n",
       "     'movie_idx': '1079',\n",
       "     'movie_id': 112552,\n",
       "     'genres': ['Drama']},\n",
       "    {'movie': 'Blood Diamond (2006)',\n",
       "     'url': '/static/datasets/ml-latest/img/49530.jpg',\n",
       "     'movie_idx': '549',\n",
       "     'movie_id': 49530,\n",
       "     'genres': ['Action', 'Adventure', 'Crime', 'Drama', 'Thriller', 'War']},\n",
       "    {'movie': 'Atlantis: The Lost Empire (2001)',\n",
       "     'url': '/static/datasets/ml-latest/img/4366.jpg',\n",
       "     'movie_idx': '272',\n",
       "     'movie_id': 4366,\n",
       "     'genres': ['Adventure', 'Animation', 'Children', 'Fantasy']},\n",
       "    {'movie': 'BlacKkKlansman (2018)',\n",
       "     'url': '/static/datasets/ml-latest/img/189713.jpg',\n",
       "     'movie_idx': '1421',\n",
       "     'movie_id': 189713,\n",
       "     'genres': ['Comedy', 'Crime', 'Drama']}],\n",
       "   'order': 0},\n",
       "  'JELSA_NOPOST': {'movies': [{'movie': 'Star Wars: Episode I - The Phantom Menace (1999)',\n",
       "     'url': '/static/datasets/ml-latest/img/2628.jpg',\n",
       "     'movie_idx': '174',\n",
       "     'movie_id': 2628,\n",
       "     'genres': ['Action', 'Adventure', 'Sci-Fi']},\n",
       "    {'movie': 'Titanic (1997)',\n",
       "     'url': '/static/datasets/ml-latest/img/1721.jpg',\n",
       "     'movie_idx': '129',\n",
       "     'movie_id': 1721,\n",
       "     'genres': ['Drama', 'Romance']},\n",
       "    {'movie': 'Matrix Reloaded, The (2003)',\n",
       "     'url': '/static/datasets/ml-latest/img/6365.jpg',\n",
       "     'movie_idx': '358',\n",
       "     'movie_id': 6365,\n",
       "     'genres': ['Action', 'Adventure', 'Sci-Fi', 'Thriller', 'IMAX']},\n",
       "    {'movie': 'The Imitation Game (2014)',\n",
       "     'url': '/static/datasets/ml-latest/img/116797.jpg',\n",
       "     'movie_idx': '1110',\n",
       "     'movie_id': 116797,\n",
       "     'genres': ['Drama', 'Thriller', 'War']},\n",
       "    {'movie': 'Mean Girls (2004)',\n",
       "     'url': '/static/datasets/ml-latest/img/7451.jpg',\n",
       "     'movie_idx': '404',\n",
       "     'movie_id': 7451,\n",
       "     'genres': ['Comedy']},\n",
       "    {'movie': 'Doctor Strange (2016)',\n",
       "     'url': '/static/datasets/ml-latest/img/122922.jpg',\n",
       "     'movie_idx': '1150',\n",
       "     'movie_id': 122922,\n",
       "     'genres': ['Action', 'Adventure', 'Sci-Fi']},\n",
       "    {'movie': 'Fantastic Beasts and Where to Find Them 2 (2018)',\n",
       "     'url': '/static/datasets/ml-latest/img/135426.jpg',\n",
       "     'movie_idx': '1182',\n",
       "     'movie_id': 135426,\n",
       "     'genres': []},\n",
       "    {'movie': 'Lion King, The (1994)',\n",
       "     'url': '/static/datasets/ml-latest/img/364.jpg',\n",
       "     'movie_idx': '45',\n",
       "     'movie_id': 364,\n",
       "     'genres': ['Adventure',\n",
       "      'Animation',\n",
       "      'Children',\n",
       "      'Drama',\n",
       "      'Musical',\n",
       "      'IMAX']},\n",
       "    {'movie': 'Da Vinci Code, The (2006)',\n",
       "     'url': '/static/datasets/ml-latest/img/45447.jpg',\n",
       "     'movie_idx': '517',\n",
       "     'movie_id': 45447,\n",
       "     'genres': ['Drama', 'Mystery', 'Thriller']},\n",
       "    {'movie': 'X2: X-Men United (2003)',\n",
       "     'url': '/static/datasets/ml-latest/img/6333.jpg',\n",
       "     'movie_idx': '357',\n",
       "     'movie_id': 6333,\n",
       "     'genres': ['Action', 'Adventure', 'Sci-Fi', 'Thriller']}],\n",
       "   'order': 1}},\n",
       " 'algorithm_assignment': {'0': {'algorithm': 'JELSA',\n",
       "   'name': 'JELSA',\n",
       "   'order': 0},\n",
       "  '1': {'algorithm': 'JELSA_NOPOST', 'name': 'JELSA_NOPOST', 'order': 1}},\n",
       " 'result_layout': 'rows',\n",
       " 'shown': {'JELSA': [[542, 1229, 1379, 758, 481, 1044, 948, 486, 518, 648],\n",
       "   [595, 1451, 850, 531, 1471, 1479, 46, 327, 913, 1028],\n",
       "   [85, 198, 619, 719, 324, 1297, 874, 937, 7, 859],\n",
       "   [679, 491, 1290, 1252, 403, 1149, 1079, 549, 272, 1421]],\n",
       "  'JELSA_NOPOST': [[958, 1181, 366, 715, 814, 293, 334, 580, 386, 863],\n",
       "   [499, 895, 1112, 571, 750, 468, 1028, 522, 1123, 1029],\n",
       "   [292, 749, 360, 316, 236, 1179, 941, 898, 410, 268],\n",
       "   [174, 129, 358, 1110, 404, 1150, 1182, 45, 517, 357]]}}"
      ]
     },
     "execution_count": 41,
     "metadata": {},
     "output_type": "execute_result"
    }
   ],
   "source": [
    "json.loads(d.loc[112][\"data\"])"
   ]
  },
  {
   "cell_type": "code",
   "execution_count": 43,
   "id": "90206979",
   "metadata": {},
   "outputs": [
    {
     "data": {
      "text/plain": [
       "data                {\"iteration\": 2, \"selected\": [[758, 1044, 518,...\n",
       "interaction_type                                      iteration-ended\n",
       "participation                                                       1\n",
       "time                                       2024-09-26 15:11:46.120504\n",
       "iteration                                                           2\n",
       "result_layout                                                    rows\n",
       "JELSA                                                               1\n",
       "JELSA_NOPOST                                                        0\n",
       "Name: 87, dtype: object"
      ]
     },
     "execution_count": 43,
     "metadata": {},
     "output_type": "execute_result"
    }
   ],
   "source": [
    "# how does the record with iteration-ended looks like?\n",
    "d.loc[87]"
   ]
  },
  {
   "cell_type": "code",
   "execution_count": 45,
   "id": "98463259",
   "metadata": {},
   "outputs": [
    {
     "data": {
      "text/plain": [
       "{'iteration': 2,\n",
       " 'selected': [[758,\n",
       "   1044,\n",
       "   518,\n",
       "   958,\n",
       "   1181,\n",
       "   366,\n",
       "   715,\n",
       "   814,\n",
       "   293,\n",
       "   334,\n",
       "   580,\n",
       "   386,\n",
       "   863],\n",
       "  [499,\n",
       "   895,\n",
       "   1112,\n",
       "   571,\n",
       "   750,\n",
       "   1029,\n",
       "   1123,\n",
       "   522,\n",
       "   1028,\n",
       "   468,\n",
       "   1451,\n",
       "   850,\n",
       "   1471,\n",
       "   1479,\n",
       "   327,\n",
       "   531]],\n",
       " 'selected_variants': [[0, 0, 0, 1, 1, 1, 1, 1, 1, 1, 1, 1, 1],\n",
       "  [0, 0, 0, 0, 0, 0, 0, 0, 0, 0, 1, 1, 1, 1, 1, 1]],\n",
       " 'dont_like_anything': [False, False],\n",
       " 'algorithm_comparison': ['third', 'fourth'],\n",
       " 'ratings': [{'JELSA': 3, 'JELSA_NOPOST': 4}, {'JELSA': 4, 'JELSA_NOPOST': 4}]}"
      ]
     },
     "execution_count": 45,
     "metadata": {},
     "output_type": "execute_result"
    }
   ],
   "source": [
    "json.loads(d.loc[87][\"data\"])\n",
    "# d.iloc[100:120]"
   ]
  },
  {
   "cell_type": "markdown",
   "id": "6f9097db",
   "metadata": {},
   "source": [
    "# Filter only the information about item selections\n",
    "- alternatively, similar information (without the ordering of clicks) can be collected from iteration-ended"
   ]
  },
  {
   "cell_type": "code",
   "execution_count": 46,
   "id": "2599e54f",
   "metadata": {},
   "outputs": [
    {
     "name": "stdout",
     "output_type": "stream",
     "text": [
      "(976, 9)\n",
      "(976, 9)\n"
     ]
    }
   ],
   "source": [
    "# adding information on whether the selected item was displayed on an advantaged position (variant=0), or not (variant=1)\n",
    "d[\"variant\"] = -1\n",
    "print(d.shape)\n",
    "d.loc[d[\"interaction_type\"] == \"selected-item\", \"variant\"] = d[d[\"interaction_type\"] == \"selected-item\"].data.map(lambda x: json.loads(x)[\"selected_item\"]).map(lambda x: x.get(\"variant\", -1))\n",
    "d = d.loc[d.iteration <= 8]\n",
    "print(d.shape)"
   ]
  },
  {
   "cell_type": "code",
   "execution_count": 47,
   "id": "e1dba16d",
   "metadata": {},
   "outputs": [
    {
     "data": {
      "text/plain": [
       "(337, 9)"
      ]
     },
     "execution_count": 47,
     "metadata": {},
     "output_type": "execute_result"
    }
   ],
   "source": [
    "selected_item_interactions = d[d.variant >= 0].copy()\n",
    "selected_item_interactions.shape"
   ]
  },
  {
   "cell_type": "code",
   "execution_count": 48,
   "id": "a12ab6a5",
   "metadata": {},
   "outputs": [
    {
     "data": {
      "text/html": [
       "<div>\n",
       "<style scoped>\n",
       "    .dataframe tbody tr th:only-of-type {\n",
       "        vertical-align: middle;\n",
       "    }\n",
       "\n",
       "    .dataframe tbody tr th {\n",
       "        vertical-align: top;\n",
       "    }\n",
       "\n",
       "    .dataframe thead th {\n",
       "        text-align: right;\n",
       "    }\n",
       "</style>\n",
       "<table border=\"1\" class=\"dataframe\">\n",
       "  <thead>\n",
       "    <tr style=\"text-align: right;\">\n",
       "      <th></th>\n",
       "      <th>data</th>\n",
       "      <th>interaction_type</th>\n",
       "      <th>participation</th>\n",
       "      <th>time</th>\n",
       "      <th>iteration</th>\n",
       "      <th>result_layout</th>\n",
       "      <th>JELSA</th>\n",
       "      <th>JELSA_NOPOST</th>\n",
       "      <th>variant</th>\n",
       "    </tr>\n",
       "  </thead>\n",
       "  <tbody>\n",
       "    <tr>\n",
       "      <th>36</th>\n",
       "      <td>{\"selected_item\": {\"genres\": [\"Drama\", \"Myster...</td>\n",
       "      <td>selected-item</td>\n",
       "      <td>1</td>\n",
       "      <td>2024-09-26 15:10:24.800955</td>\n",
       "      <td>1</td>\n",
       "      <td>rows</td>\n",
       "      <td>0</td>\n",
       "      <td>1</td>\n",
       "      <td>0</td>\n",
       "    </tr>\n",
       "    <tr>\n",
       "      <th>37</th>\n",
       "      <td>{\"selected_item\": {\"genres\": [\"Action\", \"Adven...</td>\n",
       "      <td>selected-item</td>\n",
       "      <td>1</td>\n",
       "      <td>2024-09-26 15:10:28.982732</td>\n",
       "      <td>1</td>\n",
       "      <td>rows</td>\n",
       "      <td>0</td>\n",
       "      <td>1</td>\n",
       "      <td>0</td>\n",
       "    </tr>\n",
       "    <tr>\n",
       "      <th>39</th>\n",
       "      <td>{\"selected_item\": {\"genres\": [\"Action\", \"Sci-F...</td>\n",
       "      <td>selected-item</td>\n",
       "      <td>1</td>\n",
       "      <td>2024-09-26 15:10:32.642589</td>\n",
       "      <td>1</td>\n",
       "      <td>rows</td>\n",
       "      <td>0</td>\n",
       "      <td>1</td>\n",
       "      <td>0</td>\n",
       "    </tr>\n",
       "    <tr>\n",
       "      <th>41</th>\n",
       "      <td>{\"selected_item\": {\"genres\": [\"Adventure\", \"Fa...</td>\n",
       "      <td>selected-item</td>\n",
       "      <td>1</td>\n",
       "      <td>2024-09-26 15:10:35.657857</td>\n",
       "      <td>1</td>\n",
       "      <td>rows</td>\n",
       "      <td>0</td>\n",
       "      <td>1</td>\n",
       "      <td>1</td>\n",
       "    </tr>\n",
       "    <tr>\n",
       "      <th>42</th>\n",
       "      <td>{\"selected_item\": {\"genres\": [\"Fantasy\"], \"mov...</td>\n",
       "      <td>selected-item</td>\n",
       "      <td>1</td>\n",
       "      <td>2024-09-26 15:10:36.030545</td>\n",
       "      <td>1</td>\n",
       "      <td>rows</td>\n",
       "      <td>0</td>\n",
       "      <td>1</td>\n",
       "      <td>1</td>\n",
       "    </tr>\n",
       "  </tbody>\n",
       "</table>\n",
       "</div>"
      ],
      "text/plain": [
       "                                                 data interaction_type  \\\n",
       "36  {\"selected_item\": {\"genres\": [\"Drama\", \"Myster...    selected-item   \n",
       "37  {\"selected_item\": {\"genres\": [\"Action\", \"Adven...    selected-item   \n",
       "39  {\"selected_item\": {\"genres\": [\"Action\", \"Sci-F...    selected-item   \n",
       "41  {\"selected_item\": {\"genres\": [\"Adventure\", \"Fa...    selected-item   \n",
       "42  {\"selected_item\": {\"genres\": [\"Fantasy\"], \"mov...    selected-item   \n",
       "\n",
       "    participation                        time  iteration result_layout  JELSA  \\\n",
       "36              1  2024-09-26 15:10:24.800955          1          rows      0   \n",
       "37              1  2024-09-26 15:10:28.982732          1          rows      0   \n",
       "39              1  2024-09-26 15:10:32.642589          1          rows      0   \n",
       "41              1  2024-09-26 15:10:35.657857          1          rows      0   \n",
       "42              1  2024-09-26 15:10:36.030545          1          rows      0   \n",
       "\n",
       "    JELSA_NOPOST  variant  \n",
       "36             1        0  \n",
       "37             1        0  \n",
       "39             1        0  \n",
       "41             1        1  \n",
       "42             1        1  "
      ]
     },
     "execution_count": 48,
     "metadata": {},
     "output_type": "execute_result"
    }
   ],
   "source": [
    "selected_item_interactions.head()"
   ]
  },
  {
   "cell_type": "code",
   "execution_count": 50,
   "id": "b3cebbff",
   "metadata": {},
   "outputs": [
    {
     "data": {
      "text/plain": [
       "{'selected_item': {'genres': ['Drama', 'Mystery', 'Thriller'],\n",
       "  'movie': 'Shutter Island (2010) Drama|Mystery|Thriller',\n",
       "  'movie_id': 74458,\n",
       "  'movie_idx': '758',\n",
       "  'url': '/static/datasets/ml-latest/img/74458.jpg',\n",
       "  'variant': 0},\n",
       " 'selected_items': [{'genres': ['Drama', 'Mystery', 'Thriller'],\n",
       "   'movie': 'Shutter Island (2010) Drama|Mystery|Thriller',\n",
       "   'movie_id': 74458,\n",
       "   'movie_idx': '758',\n",
       "   'url': '/static/datasets/ml-latest/img/74458.jpg',\n",
       "   'variant': 0}],\n",
       " 'context': {'url': 'https://31aa-87-52-108-14.ngrok-free.app/fastcompare/compare-algorithms',\n",
       "  'time': '2024-09-26T15:10:24.770Z',\n",
       "  'viewport': {'left': 0, 'top': 0, 'width': 1902, 'height': 1806.390625},\n",
       "  'extra': {'variant': 0}}}"
      ]
     },
     "execution_count": 50,
     "metadata": {},
     "output_type": "execute_result"
    }
   ],
   "source": [
    "# information available for selected-item interaction_type\n",
    "json.loads(selected_item_interactions.loc[36][\"data\"])"
   ]
  },
  {
   "cell_type": "code",
   "execution_count": 51,
   "id": "94a4f5b0",
   "metadata": {},
   "outputs": [],
   "source": [
    "# adding information on corresponding MovieID\n",
    "def getSelectedMovieId(x):\n",
    "    return json.loads(x)[\"selected_item\"][\"movie_id\"]\n",
    "\n",
    "selected_item_interactions[\"movieID\"] = np.nan\n",
    "selected_item_interactions.movieID = selected_item_interactions.data.map(lambda x: getSelectedMovieId(x))"
   ]
  },
  {
   "cell_type": "code",
   "execution_count": 54,
   "id": "cc96cb74",
   "metadata": {},
   "outputs": [],
   "source": [
    "# adding information on which algorithm is responsible for the selection\n",
    "selected_item_interactions[\"selected_algorithm\"] = \"JELSA\"\n",
    "selected_item_interactions.loc[selected_item_interactions.variant == selected_item_interactions.JELSA_NOPOST, \"selected_algorithm\"] = \"JELSA_NOPOST\""
   ]
  },
  {
   "cell_type": "code",
   "execution_count": 55,
   "id": "7520b829",
   "metadata": {},
   "outputs": [
    {
     "data": {
      "text/html": [
       "<div>\n",
       "<style scoped>\n",
       "    .dataframe tbody tr th:only-of-type {\n",
       "        vertical-align: middle;\n",
       "    }\n",
       "\n",
       "    .dataframe tbody tr th {\n",
       "        vertical-align: top;\n",
       "    }\n",
       "\n",
       "    .dataframe thead th {\n",
       "        text-align: right;\n",
       "    }\n",
       "</style>\n",
       "<table border=\"1\" class=\"dataframe\">\n",
       "  <thead>\n",
       "    <tr style=\"text-align: right;\">\n",
       "      <th></th>\n",
       "      <th>data</th>\n",
       "      <th>interaction_type</th>\n",
       "      <th>participation</th>\n",
       "      <th>time</th>\n",
       "      <th>iteration</th>\n",
       "      <th>result_layout</th>\n",
       "      <th>JELSA</th>\n",
       "      <th>JELSA_NOPOST</th>\n",
       "      <th>variant</th>\n",
       "      <th>movieID</th>\n",
       "      <th>selected_algorithm</th>\n",
       "    </tr>\n",
       "  </thead>\n",
       "  <tbody>\n",
       "    <tr>\n",
       "      <th>36</th>\n",
       "      <td>{\"selected_item\": {\"genres\": [\"Drama\", \"Myster...</td>\n",
       "      <td>selected-item</td>\n",
       "      <td>1</td>\n",
       "      <td>2024-09-26 15:10:24.800955</td>\n",
       "      <td>1</td>\n",
       "      <td>rows</td>\n",
       "      <td>0</td>\n",
       "      <td>1</td>\n",
       "      <td>0</td>\n",
       "      <td>74458</td>\n",
       "      <td>JELSA</td>\n",
       "    </tr>\n",
       "    <tr>\n",
       "      <th>37</th>\n",
       "      <td>{\"selected_item\": {\"genres\": [\"Action\", \"Adven...</td>\n",
       "      <td>selected-item</td>\n",
       "      <td>1</td>\n",
       "      <td>2024-09-26 15:10:28.982732</td>\n",
       "      <td>1</td>\n",
       "      <td>rows</td>\n",
       "      <td>0</td>\n",
       "      <td>1</td>\n",
       "      <td>0</td>\n",
       "      <td>108932</td>\n",
       "      <td>JELSA</td>\n",
       "    </tr>\n",
       "    <tr>\n",
       "      <th>39</th>\n",
       "      <td>{\"selected_item\": {\"genres\": [\"Action\", \"Sci-F...</td>\n",
       "      <td>selected-item</td>\n",
       "      <td>1</td>\n",
       "      <td>2024-09-26 15:10:32.642589</td>\n",
       "      <td>1</td>\n",
       "      <td>rows</td>\n",
       "      <td>0</td>\n",
       "      <td>1</td>\n",
       "      <td>0</td>\n",
       "      <td>45499</td>\n",
       "      <td>JELSA</td>\n",
       "    </tr>\n",
       "    <tr>\n",
       "      <th>41</th>\n",
       "      <td>{\"selected_item\": {\"genres\": [\"Adventure\", \"Fa...</td>\n",
       "      <td>selected-item</td>\n",
       "      <td>1</td>\n",
       "      <td>2024-09-26 15:10:35.657857</td>\n",
       "      <td>1</td>\n",
       "      <td>rows</td>\n",
       "      <td>0</td>\n",
       "      <td>1</td>\n",
       "      <td>1</td>\n",
       "      <td>98809</td>\n",
       "      <td>JELSA_NOPOST</td>\n",
       "    </tr>\n",
       "    <tr>\n",
       "      <th>42</th>\n",
       "      <td>{\"selected_item\": {\"genres\": [\"Fantasy\"], \"mov...</td>\n",
       "      <td>selected-item</td>\n",
       "      <td>1</td>\n",
       "      <td>2024-09-26 15:10:36.030545</td>\n",
       "      <td>1</td>\n",
       "      <td>rows</td>\n",
       "      <td>0</td>\n",
       "      <td>1</td>\n",
       "      <td>1</td>\n",
       "      <td>135143</td>\n",
       "      <td>JELSA_NOPOST</td>\n",
       "    </tr>\n",
       "  </tbody>\n",
       "</table>\n",
       "</div>"
      ],
      "text/plain": [
       "                                                 data interaction_type  \\\n",
       "36  {\"selected_item\": {\"genres\": [\"Drama\", \"Myster...    selected-item   \n",
       "37  {\"selected_item\": {\"genres\": [\"Action\", \"Adven...    selected-item   \n",
       "39  {\"selected_item\": {\"genres\": [\"Action\", \"Sci-F...    selected-item   \n",
       "41  {\"selected_item\": {\"genres\": [\"Adventure\", \"Fa...    selected-item   \n",
       "42  {\"selected_item\": {\"genres\": [\"Fantasy\"], \"mov...    selected-item   \n",
       "\n",
       "    participation                        time  iteration result_layout  JELSA  \\\n",
       "36              1  2024-09-26 15:10:24.800955          1          rows      0   \n",
       "37              1  2024-09-26 15:10:28.982732          1          rows      0   \n",
       "39              1  2024-09-26 15:10:32.642589          1          rows      0   \n",
       "41              1  2024-09-26 15:10:35.657857          1          rows      0   \n",
       "42              1  2024-09-26 15:10:36.030545          1          rows      0   \n",
       "\n",
       "    JELSA_NOPOST  variant  movieID selected_algorithm  \n",
       "36             1        0    74458              JELSA  \n",
       "37             1        0   108932              JELSA  \n",
       "39             1        0    45499              JELSA  \n",
       "41             1        1    98809       JELSA_NOPOST  \n",
       "42             1        1   135143       JELSA_NOPOST  "
      ]
     },
     "execution_count": 55,
     "metadata": {},
     "output_type": "execute_result"
    }
   ],
   "source": [
    "selected_item_interactions.head()"
   ]
  },
  {
   "cell_type": "markdown",
   "id": "0fc44299",
   "metadata": {},
   "source": [
    "## Task 1: which algorithm (JELSA or JELSA_NOPOST) attracted more selections?\n",
    "- apply a simple groupby and count\n",
    "- what kind of test would you apply to determine whether the differences are statistically significant?"
   ]
  },
  {
   "cell_type": "code",
   "execution_count": 56,
   "id": "1691d934",
   "metadata": {},
   "outputs": [
    {
     "data": {
      "text/html": [
       "<div>\n",
       "<style scoped>\n",
       "    .dataframe tbody tr th:only-of-type {\n",
       "        vertical-align: middle;\n",
       "    }\n",
       "\n",
       "    .dataframe tbody tr th {\n",
       "        vertical-align: top;\n",
       "    }\n",
       "\n",
       "    .dataframe thead th {\n",
       "        text-align: right;\n",
       "    }\n",
       "</style>\n",
       "<table border=\"1\" class=\"dataframe\">\n",
       "  <thead>\n",
       "    <tr style=\"text-align: right;\">\n",
       "      <th></th>\n",
       "      <th>movieID</th>\n",
       "    </tr>\n",
       "    <tr>\n",
       "      <th>selected_algorithm</th>\n",
       "      <th></th>\n",
       "    </tr>\n",
       "  </thead>\n",
       "  <tbody>\n",
       "    <tr>\n",
       "      <th>JELSA</th>\n",
       "      <td>127</td>\n",
       "    </tr>\n",
       "    <tr>\n",
       "      <th>JELSA_NOPOST</th>\n",
       "      <td>210</td>\n",
       "    </tr>\n",
       "  </tbody>\n",
       "</table>\n",
       "</div>"
      ],
      "text/plain": [
       "                    movieID\n",
       "selected_algorithm         \n",
       "JELSA                   127\n",
       "JELSA_NOPOST            210"
      ]
     },
     "execution_count": 56,
     "metadata": {},
     "output_type": "execute_result"
    }
   ],
   "source": [
    "selected_item_interactions.groupby(\"selected_algorithm\")[[\"movieID\"]].count()"
   ]
  },
  {
   "cell_type": "markdown",
   "id": "a8220e3c",
   "metadata": {},
   "source": [
    "JELSA has 127 participantions, JELSA_NOPOST has 210 participantions.\n",
    "\n",
    "I would apply a chi-square test to determine whether the differences are statistically significant."
   ]
  },
  {
   "cell_type": "markdown",
   "id": "791b4e15",
   "metadata": {},
   "source": [
    "### Task 1.1: were there some differences if the algorithm was displayed at (dis)advantaged position?"
   ]
  },
  {
   "cell_type": "code",
   "execution_count": 57,
   "id": "80a8bbcf",
   "metadata": {},
   "outputs": [
    {
     "name": "stdout",
     "output_type": "stream",
     "text": [
      "JELSA 351\n",
      "JELSA_NOPOST 313\n",
      "JELSA 8.76%\n",
      "JELSA_NOPOST 10.52%\n"
     ]
    },
    {
     "data": {
      "text/html": [
       "<div>\n",
       "<style scoped>\n",
       "    .dataframe tbody tr th:only-of-type {\n",
       "        vertical-align: middle;\n",
       "    }\n",
       "\n",
       "    .dataframe tbody tr th {\n",
       "        vertical-align: top;\n",
       "    }\n",
       "\n",
       "    .dataframe thead th {\n",
       "        text-align: right;\n",
       "    }\n",
       "</style>\n",
       "<table border=\"1\" class=\"dataframe\">\n",
       "  <thead>\n",
       "    <tr style=\"text-align: right;\">\n",
       "      <th></th>\n",
       "      <th></th>\n",
       "      <th>movieID</th>\n",
       "    </tr>\n",
       "    <tr>\n",
       "      <th>selected_algorithm</th>\n",
       "      <th>variant</th>\n",
       "      <th></th>\n",
       "    </tr>\n",
       "  </thead>\n",
       "  <tbody>\n",
       "    <tr>\n",
       "      <th rowspan=\"2\" valign=\"top\">JELSA</th>\n",
       "      <th>0</th>\n",
       "      <td>43</td>\n",
       "    </tr>\n",
       "    <tr>\n",
       "      <th>1</th>\n",
       "      <td>84</td>\n",
       "    </tr>\n",
       "    <tr>\n",
       "      <th rowspan=\"2\" valign=\"top\">JELSA_NOPOST</th>\n",
       "      <th>0</th>\n",
       "      <td>123</td>\n",
       "    </tr>\n",
       "    <tr>\n",
       "      <th>1</th>\n",
       "      <td>87</td>\n",
       "    </tr>\n",
       "  </tbody>\n",
       "</table>\n",
       "</div>"
      ],
      "text/plain": [
       "                            movieID\n",
       "selected_algorithm variant         \n",
       "JELSA              0             43\n",
       "                   1             84\n",
       "JELSA_NOPOST       0            123\n",
       "                   1             87"
      ]
     },
     "execution_count": 57,
     "metadata": {},
     "output_type": "execute_result"
    }
   ],
   "source": [
    "JELSA_adv = 2178\n",
    "JELSA_disadv = 1827\n",
    "JELSA_NOPOST_adv = 1644\n",
    "JELSA_NOPOST_disadv = 1331\n",
    "\n",
    "print(\"JELSA\", JELSA_adv-JELSA_disadv)\n",
    "print(\"JELSA_NOPOST\", JELSA_NOPOST_adv-JELSA_NOPOST_disadv)\n",
    "\n",
    "JELSA_picked_more_per_adv = (JELSA_adv - JELSA_disadv)/(JELSA_adv+JELSA_disadv)\n",
    "JELSA_NOPOST_picked_more_per_adv = (JELSA_NOPOST_adv - JELSA_NOPOST_disadv)/(JELSA_NOPOST_adv+JELSA_NOPOST_disadv)\n",
    "\n",
    "print(\"JELSA {:.2%}\".format(JELSA_picked_more_per_adv))\n",
    "print(\"JELSA_NOPOST {:.2%}\".format(JELSA_NOPOST_picked_more_per_adv))\n",
    "\n",
    "selected_item_interactions.groupby([\"selected_algorithm\",\"variant\"])[[\"movieID\"]].count()"
   ]
  },
  {
   "cell_type": "markdown",
   "id": "369e5f5d",
   "metadata": {},
   "source": [
    "It seems that JELSA was picked more often when it was displayed at the first position.\n",
    "The same goes for JELSA_NOPOST. "
   ]
  },
  {
   "cell_type": "markdown",
   "id": "a3a890c3",
   "metadata": {},
   "source": [
    "### Task 1.2: were there some differences w.r.t. result_layout and (dis)advantaged position?"
   ]
  },
  {
   "cell_type": "code",
   "execution_count": 58,
   "id": "0fac9139",
   "metadata": {},
   "outputs": [
    {
     "data": {
      "text/html": [
       "<div>\n",
       "<style scoped>\n",
       "    .dataframe tbody tr th:only-of-type {\n",
       "        vertical-align: middle;\n",
       "    }\n",
       "\n",
       "    .dataframe tbody tr th {\n",
       "        vertical-align: top;\n",
       "    }\n",
       "\n",
       "    .dataframe thead th {\n",
       "        text-align: right;\n",
       "    }\n",
       "</style>\n",
       "<table border=\"1\" class=\"dataframe\">\n",
       "  <thead>\n",
       "    <tr style=\"text-align: right;\">\n",
       "      <th></th>\n",
       "      <th></th>\n",
       "      <th></th>\n",
       "      <th>movieID</th>\n",
       "    </tr>\n",
       "    <tr>\n",
       "      <th>selected_algorithm</th>\n",
       "      <th>result_layout</th>\n",
       "      <th>variant</th>\n",
       "      <th></th>\n",
       "    </tr>\n",
       "  </thead>\n",
       "  <tbody>\n",
       "    <tr>\n",
       "      <th rowspan=\"2\" valign=\"top\">JELSA</th>\n",
       "      <th rowspan=\"2\" valign=\"top\">rows</th>\n",
       "      <th>0</th>\n",
       "      <td>0.338583</td>\n",
       "    </tr>\n",
       "    <tr>\n",
       "      <th>1</th>\n",
       "      <td>0.661417</td>\n",
       "    </tr>\n",
       "    <tr>\n",
       "      <th rowspan=\"2\" valign=\"top\">JELSA_NOPOST</th>\n",
       "      <th rowspan=\"2\" valign=\"top\">rows</th>\n",
       "      <th>0</th>\n",
       "      <td>0.585714</td>\n",
       "    </tr>\n",
       "    <tr>\n",
       "      <th>1</th>\n",
       "      <td>0.414286</td>\n",
       "    </tr>\n",
       "  </tbody>\n",
       "</table>\n",
       "</div>"
      ],
      "text/plain": [
       "                                           movieID\n",
       "selected_algorithm result_layout variant          \n",
       "JELSA              rows          0        0.338583\n",
       "                                 1        0.661417\n",
       "JELSA_NOPOST       rows          0        0.585714\n",
       "                                 1        0.414286"
      ]
     },
     "execution_count": 58,
     "metadata": {},
     "output_type": "execute_result"
    }
   ],
   "source": [
    "selected_item_interactions.groupby([\"selected_algorithm\",\"result_layout\", \"variant\"])[[\"movieID\"]].count()\n",
    "# Calculate the percentage of selected items per variant\n",
    "selected_item_interactions.groupby([\"selected_algorithm\",\"result_layout\", \"variant\"])[[\"movieID\"]].count().groupby(level=[0,1]).apply(lambda x: x / x.sum())"
   ]
  },
  {
   "cell_type": "markdown",
   "id": "c2cf2e55",
   "metadata": {},
   "source": [
    "## Task 2: what are average DCG scores for both GAMMA and DELTA?\n",
    "- you gonna need to link selections to the positions of displayed items. This can be acquired from iteration-started interaction_type"
   ]
  },
  {
   "cell_type": "code",
   "execution_count": 59,
   "id": "96f7290e",
   "metadata": {},
   "outputs": [
    {
     "data": {
      "text/html": [
       "<div>\n",
       "<style scoped>\n",
       "    .dataframe tbody tr th:only-of-type {\n",
       "        vertical-align: middle;\n",
       "    }\n",
       "\n",
       "    .dataframe tbody tr th {\n",
       "        vertical-align: top;\n",
       "    }\n",
       "\n",
       "    .dataframe thead th {\n",
       "        text-align: right;\n",
       "    }\n",
       "</style>\n",
       "<table border=\"1\" class=\"dataframe\">\n",
       "  <thead>\n",
       "    <tr style=\"text-align: right;\">\n",
       "      <th></th>\n",
       "      <th>id</th>\n",
       "    </tr>\n",
       "    <tr>\n",
       "      <th>interaction_type</th>\n",
       "      <th></th>\n",
       "    </tr>\n",
       "  </thead>\n",
       "  <tbody>\n",
       "    <tr>\n",
       "      <th>changed-viewport</th>\n",
       "      <td>449</td>\n",
       "    </tr>\n",
       "    <tr>\n",
       "      <th>deselected-item</th>\n",
       "      <td>15</td>\n",
       "    </tr>\n",
       "    <tr>\n",
       "      <th>elicitation-ended</th>\n",
       "      <td>7</td>\n",
       "    </tr>\n",
       "    <tr>\n",
       "      <th>iteration-ended</th>\n",
       "      <td>33</td>\n",
       "    </tr>\n",
       "    <tr>\n",
       "      <th>iteration-started</th>\n",
       "      <td>34</td>\n",
       "    </tr>\n",
       "    <tr>\n",
       "      <th>loaded-page</th>\n",
       "      <td>61</td>\n",
       "    </tr>\n",
       "    <tr>\n",
       "      <th>on-input</th>\n",
       "      <td>264</td>\n",
       "    </tr>\n",
       "    <tr>\n",
       "      <th>selected-item</th>\n",
       "      <td>446</td>\n",
       "    </tr>\n",
       "    <tr>\n",
       "      <th>study-ended</th>\n",
       "      <td>6</td>\n",
       "    </tr>\n",
       "  </tbody>\n",
       "</table>\n",
       "</div>"
      ],
      "text/plain": [
       "                    id\n",
       "interaction_type      \n",
       "changed-viewport   449\n",
       "deselected-item     15\n",
       "elicitation-ended    7\n",
       "iteration-ended     33\n",
       "iteration-started   34\n",
       "loaded-page         61\n",
       "on-input           264\n",
       "selected-item      446\n",
       "study-ended          6"
      ]
     },
     "execution_count": 59,
     "metadata": {},
     "output_type": "execute_result"
    }
   ],
   "source": [
    "# Create the pair iteration_started iteration_ended\n",
    "\n",
    "\n",
    "df_interaction.groupby(\"interaction_type\")[[\"id\"]].count()\n",
    "# Select where interaction_type is iteration-started and join by iteration_ended with same id\n",
    "\n",
    "df_interaction.groupby(\"interaction_type\")[[\"id\"]].count()\n",
    "# df_interaction.groupby(selected_item_interactions.selected_algorithm)\n",
    "# df_interaction.groupby([\"interaction_type\"])[[\"id\"]].count()\n",
    "# df_interaction.groupby([\"interaction_type\" == \"iteration-started\"])[[\"id\"]].count()\n"
   ]
  },
  {
   "cell_type": "markdown",
   "id": "c92ddc86",
   "metadata": {},
   "source": [
    "## Task 3: does JELSA or JELSA_NOPOST substantially differ in the diversity or novelty of provided recommendations?\n",
    "- consider diversity w.r.t. movie genres\n",
    "- consider mean distribution year as a proxy for novelty"
   ]
  },
  {
   "cell_type": "code",
   "execution_count": 62,
   "id": "b7a0e7b2",
   "metadata": {},
   "outputs": [
    {
     "data": {
      "text/plain": [
       "selected_algorithm             \n",
       "JELSA               Action          55\n",
       "                    Drama           51\n",
       "                    Adventure       45\n",
       "                    Sci-Fi          39\n",
       "                    Comedy          35\n",
       "                    Thriller        34\n",
       "                    Fantasy         21\n",
       "                    Mystery         15\n",
       "                    Romance         14\n",
       "                    Crime           14\n",
       "                    IMAX            14\n",
       "                    Animation       12\n",
       "                    Horror           8\n",
       "                    Children         7\n",
       "                    War              6\n",
       "                    Documentary      2\n",
       "                    Musical          1\n",
       "                    Western          1\n",
       "JELSA_NOPOST        Adventure      102\n",
       "                    Drama           89\n",
       "                    Action          83\n",
       "                    Thriller        53\n",
       "                    Comedy          53\n",
       "                    Romance         51\n",
       "                    Sci-Fi          51\n",
       "                    Fantasy         48\n",
       "                    Children        36\n",
       "                    IMAX            32\n",
       "                    Animation       32\n",
       "                    Crime           25\n",
       "                    Mystery         16\n",
       "                    War              9\n",
       "                    Musical          7\n",
       "                    Horror           3\n",
       "                    Film-Noir        1\n",
       "                    Documentary      1\n",
       "Name: data, dtype: int64"
      ]
     },
     "execution_count": 62,
     "metadata": {},
     "output_type": "execute_result"
    }
   ],
   "source": [
    "selected_item_interactions.data.map(lambda x: json.loads(x)[\"selected_item\"][\"genres\"]).groupby(selected_item_interactions.selected_algorithm).apply(lambda x: pd.Series(x.sum()).value_counts())\n",
    "\n",
    "# It seems that JELSA (with postprocessing) is more evenly distributed over genres than JELSA_NOPOST. This makes sense, since the purpose postprocessing was diversification and to gain some novelty.\n",
    "\n",
    "# Bot however does not seem to show Documentaries much, but this might be due to the users not selecting them. Since the amount of users tested is fairly low, this might be a coincidence."
   ]
  },
  {
   "cell_type": "code",
   "execution_count": 64,
   "id": "bcdbf218",
   "metadata": {},
   "outputs": [
    {
     "data": {
      "text/plain": [
       "selected_algorithm             \n",
       "JELSA               Action         14.705882\n",
       "                    Drama          13.636364\n",
       "                    Adventure      12.032086\n",
       "                    Sci-Fi         10.427807\n",
       "                    Comedy          9.358289\n",
       "                    Thriller        9.090909\n",
       "                    Fantasy         5.614973\n",
       "                    Mystery         4.010695\n",
       "                    Romance         3.743316\n",
       "                    Crime           3.743316\n",
       "                    IMAX            3.743316\n",
       "                    Animation       3.208556\n",
       "                    Horror          2.139037\n",
       "                    Children        1.871658\n",
       "                    War             1.604278\n",
       "                    Documentary     0.534759\n",
       "                    Musical         0.267380\n",
       "                    Western         0.267380\n",
       "JELSA_NOPOST        Adventure      14.739884\n",
       "                    Drama          12.861272\n",
       "                    Action         11.994220\n",
       "                    Thriller        7.658960\n",
       "                    Comedy          7.658960\n",
       "                    Romance         7.369942\n",
       "                    Sci-Fi          7.369942\n",
       "                    Fantasy         6.936416\n",
       "                    Children        5.202312\n",
       "                    IMAX            4.624277\n",
       "                    Animation       4.624277\n",
       "                    Crime           3.612717\n",
       "                    Mystery         2.312139\n",
       "                    War             1.300578\n",
       "                    Musical         1.011561\n",
       "                    Horror          0.433526\n",
       "                    Film-Noir       0.144509\n",
       "                    Documentary     0.144509\n",
       "Name: data, dtype: float64"
      ]
     },
     "execution_count": 64,
     "metadata": {},
     "output_type": "execute_result"
    }
   ],
   "source": [
    "# If we calculate percentage of selected items per genre, we can compare the distribution for each algorithm\n",
    "\n",
    "grouped_counts = selected_item_interactions.data.map(lambda x: json.loads(x)[\"selected_item\"][\"genres\"]).groupby(selected_item_interactions.selected_algorithm).apply(lambda x: pd.Series(x.sum()).value_counts())\n",
    "\n",
    "grouped_counts[\"JELSA\"] = grouped_counts[\"JELSA\"] / grouped_counts[\"JELSA\"].sum() * 100\n",
    "\n",
    "grouped_counts[\"JELSA_NOPOST\"] = grouped_counts[\"JELSA_NOPOST\"] / grouped_counts[\"JELSA_NOPOST\"].sum() * 100\n",
    "\n",
    "grouped_counts\n",
    "\n",
    "# It seems that borh algorithms has a higher bias towards selecting movies from the most popular genres, such as Action, Drama, Adventure,\n"
   ]
  },
  {
   "cell_type": "code",
   "execution_count": 65,
   "id": "9786ec3d",
   "metadata": {},
   "outputs": [
    {
     "data": {
      "text/plain": [
       "Action         2.711663\n",
       "Adventure     -2.707799\n",
       "Animation     -1.415721\n",
       "Children      -3.330654\n",
       "Comedy         1.699329\n",
       "Crime          0.130599\n",
       "Documentary    0.390251\n",
       "Drama          0.775092\n",
       "Fantasy       -1.321443\n",
       "Film-Noir           NaN\n",
       "Horror         1.705511\n",
       "IMAX          -0.880962\n",
       "Musical       -0.744181\n",
       "Mystery        1.698556\n",
       "Romance       -3.626627\n",
       "Sci-Fi         3.057865\n",
       "Thriller       1.431950\n",
       "War            0.303700\n",
       "Western             NaN\n",
       "Name: data, dtype: float64"
      ]
     },
     "execution_count": 65,
     "metadata": {},
     "output_type": "execute_result"
    }
   ],
   "source": [
    "# Subtract the two series to get the relative difference in percentage points\n",
    "grouped_counts[\"JELSA\"] - grouped_counts[\"JELSA_NOPOST\"]\n"
   ]
  },
  {
   "cell_type": "code",
   "execution_count": 66,
   "id": "519e0933",
   "metadata": {},
   "outputs": [
    {
     "name": "stdout",
     "output_type": "stream",
     "text": [
      "selected_algorithm\n",
      "JELSA           1997.000000\n",
      "JELSA_NOPOST    2006.209524\n",
      "Name: data, dtype: float64\n"
     ]
    }
   ],
   "source": [
    "# This is a list of all the years that the selected movies were released\n",
    "years = selected_item_interactions.data.map(lambda x: int(re.findall(r'\\(([0-9]+)\\)', json.loads(x)[\"selected_item\"][\"movie\"])[0])).groupby(selected_item_interactions.selected_algorithm)\n",
    "\n",
    "# Mean year of all selections\n",
    "mean_year = years.mean()\n",
    "\n",
    "print(mean_year) # 2012\n",
    "# The mean year of all selected movies recommended by the JELSA algorithm is ~1997\n",
    "# The mean year of all selected movies recommended by the JELSA_NOPOST algorithm is ~2006, so a bit newer movies.\n",
    "# This makes sense, since JELSA_NOPOST is expected to have a larger popularity bias\n"
   ]
  }
 ],
 "metadata": {
  "kernelspec": {
   "display_name": "Python 3 (ipykernel)",
   "language": "python",
   "name": "python3"
  },
  "language_info": {
   "codemirror_mode": {
    "name": "ipython",
    "version": 3
   },
   "file_extension": ".py",
   "mimetype": "text/x-python",
   "name": "python",
   "nbconvert_exporter": "python",
   "pygments_lexer": "ipython3",
   "version": "3.10.12"
  }
 },
 "nbformat": 4,
 "nbformat_minor": 5
}
